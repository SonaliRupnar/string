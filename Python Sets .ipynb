{
 "cells": [
  {
   "cell_type": "markdown",
   "id": "b5fabd6b",
   "metadata": {
    "id": "b5fabd6b"
   },
   "source": [
    "<a href=\"https://www.viharatech.com\"><img src=\"https://miro.medium.com/v2/resize:fit:828/format:webp/1*on2Bpj6A5gfd-CzaFOAZRA.jpeg\"></a>\n",
    "\n",
    "\n",
    "- `Welcome to our interactive learning session! In this Jupyter notebook, you'll find a series of questions related to Python Sets Concept. To maximize your learning, please write Python code in the cell below each question and execute it. This hands-on practice will help reinforce your understanding of the concepts. Feel free to reach out if you have any questions or need assistance. Happy coding! 💻🐍 `"
   ]
  },
  {
   "cell_type": "markdown",
   "id": "db689fc2",
   "metadata": {
    "id": "db689fc2"
   },
   "source": [
    "### Question 1: Write a Python program to create an empty set.\n",
    "\n",
    "- `Sample Input: (1,5,10,11)`\n",
    "- `Sample Output: set()`"
   ]
  },
  {
   "cell_type": "code",
   "execution_count": 5,
   "id": "c9ce9180",
   "metadata": {
    "id": "c9ce9180"
   },
   "outputs": [
    {
     "name": "stdout",
     "output_type": "stream",
     "text": [
      "set()\n"
     ]
    }
   ],
   "source": [
    "# Please write The solution Here for above question 1:\n",
    "a={1,5,10,11}\n",
    "a.clear()\n",
    "print(a)\n",
    "\n",
    "\n"
   ]
  },
  {
   "cell_type": "markdown",
   "id": "46f069cc",
   "metadata": {
    "id": "46f069cc"
   },
   "source": [
    "### Question 2: Write a Python program to check if two sets are equal.\n",
    "          \n",
    "- `sample input : `\n",
    "    - `var = (1,2,3,4)`\n",
    "- `sample output :`\n",
    "    - `result : (1,2,3,4)`\n",
    "    - `yes Both are equal : `"
   ]
  },
  {
   "cell_type": "code",
   "execution_count": 10,
   "id": "2cde3dcc",
   "metadata": {
    "id": "2cde3dcc"
   },
   "outputs": [
    {
     "name": "stdout",
     "output_type": "stream",
     "text": [
      "Lists a and b are equal\n"
     ]
    }
   ],
   "source": [
    "# Please write The solution Here for above question 2:\n",
    "a = (1,2,3,4)\n",
    "b = (1,2,3,4)\n",
    "\n",
    "c = set(a)\n",
    "d = set(b)\n",
    "\n",
    "if c == d:\n",
    "    print(\"Lists a and b are equal\")\n",
    "else:\n",
    "    print(\"Lists a and b are not equal\")\n",
    "\n",
    "\n"
   ]
  },
  {
   "cell_type": "markdown",
   "id": "0f3a2ef5",
   "metadata": {
    "id": "0f3a2ef5"
   },
   "source": [
    "### Question 3: Write a Python program to add an element to a set.\n",
    "\n",
    "-  `Sample Input: {1, 2, 3}, 4`\n",
    "-  `Sample Output: {1, 2, 3, 4}`"
   ]
  },
  {
   "cell_type": "code",
   "execution_count": 1,
   "id": "74b9f01a",
   "metadata": {
    "id": "74b9f01a"
   },
   "outputs": [
    {
     "name": "stdout",
     "output_type": "stream",
     "text": [
      "{1, 2, 3, 4}\n"
     ]
    }
   ],
   "source": [
    "# Please write The solution Here for above question 3:\n",
    "a={1, 2, 3}\n",
    "a.add(4)\n",
    "print(a)\n",
    "\n"
   ]
  },
  {
   "cell_type": "markdown",
   "id": "98e0fc60",
   "metadata": {
    "id": "98e0fc60"
   },
   "source": [
    "### Question:4 Write a Python program to check if one set is a subset of another.\n",
    "\n",
    "- `Sample Input: {1, 2, 3}, {1, 2, 3, 4, 5}`\n",
    "- `Sample Output: True`"
   ]
  },
  {
   "cell_type": "code",
   "execution_count": 4,
   "id": "aOlSDz0oXbHD",
   "metadata": {
    "executionInfo": {
     "elapsed": 4,
     "status": "ok",
     "timestamp": 1697625660173,
     "user": {
      "displayName": "sai korlakunta",
      "userId": "02275484983742224373"
     },
     "user_tz": -330
    },
    "id": "aOlSDz0oXbHD"
   },
   "outputs": [
    {
     "name": "stdout",
     "output_type": "stream",
     "text": [
      "True\n"
     ]
    }
   ],
   "source": [
    "# Please write The solution Here for above question 5:\n",
    "s1 = {1, 2, 3}\n",
    "s2 = {1, 2, 3, 4, 5}\n",
    "print(s1.issubset(s2))\n",
    "\n"
   ]
  },
  {
   "cell_type": "code",
   "execution_count": null,
   "id": "fb780a6c-d919-4a62-aabc-f2737cdc1e10",
   "metadata": {},
   "outputs": [],
   "source": []
  }
 ],
 "metadata": {
  "colab": {
   "provenance": []
  },
  "kernelspec": {
   "display_name": "Python 3 (ipykernel)",
   "language": "python",
   "name": "python3"
  },
  "language_info": {
   "codemirror_mode": {
    "name": "ipython",
    "version": 3
   },
   "file_extension": ".py",
   "mimetype": "text/x-python",
   "name": "python",
   "nbconvert_exporter": "python",
   "pygments_lexer": "ipython3",
   "version": "3.11.7"
  }
 },
 "nbformat": 4,
 "nbformat_minor": 5
}
